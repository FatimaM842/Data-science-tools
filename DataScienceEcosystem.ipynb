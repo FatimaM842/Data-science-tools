{
 "cells": [
  {
   "cell_type": "markdown",
   "metadata": {},
   "source": [
    "<div style=\"position:relative; width:100%; height:60px;\">\n",
    "  <h1 style=\"display:inline;\">Data Science Tools and Ecosystem</h1>\n",
    "  <span style=\"color: #b3b3b3; font-size: 55px; font-family: Arial, sans-serif; opacity:0.45; position:absolute; left:35%; top:-5px; transform: rotate(-30deg); pointer-events: none; z-index: 1;\">SAMPLE</span>\n",
    "</div>"
   ]
  },
  {
   "cell_type": "markdown",
   "metadata": {},
   "source": [
    "<div style=\"position:relative; width:100%; height:45px;\">\n",
    "  <span style=\"font-size:20px;\">In this notebook, Data Science Tools and Ecosystem are summarized.</span>\n",
    "  <span style=\"color: #b3b3b3; font-size: 40px; font-family: Arial, sans-serif; opacity:0.45; position:absolute; left:19%; top:-10px; transform: rotate(-30deg); pointer-events: none; z-index: 1;\">SAMPLE</span>\n",
    "</div>"
   ]
  },
  {
   "cell_type": "markdown",
   "metadata": {},
   "source": [
    "<div style=\"position:relative; width:100%; min-height:440px;\">\n",
    "Some of the popular languages that Data Scientists use are:\n",
    "<ol>\n",
    "  <li>Python</li>\n",
    "  <li>R</li>\n",
    "  <li>SQL</li>\n",
    "  <li>Scala</li>\n",
    "  <li>Java</li>\n",
    "  <li>C++</li>\n",
    "  <li>Julia</li>\n",
    "  <li>JavaScript</li>\n",
    "  <li>Php</li>\n",
    "  <li>Go</li>\n",
    "  <li>Ruby</li>\n",
    "  <li>Visual Basic</li>\n",
    "</ol>\n",
    "<span style=\"color: #b3b3b3; font-size: 70px; font-family: Arial, sans-serif; opacity:0.45; position:absolute; left:13%; top:90px; transform: rotate(-30deg); pointer-events: none; z-index: 1;\">SAMPLE</span>\n",
    "</div>"
   ]
  },
  {
   "cell_type": "markdown",
   "metadata": {},
   "source": [
    "<div style=\"position:relative; width:100%; min-height:480px;\">\n",
    "Some of the commonly used libraries used by Data Scientists include:\n",
    "<ol>\n",
    "  <li>Pandas</li>\n",
    "  <li>Numpy</li>\n",
    "  <li>Matplotlib</li>\n",
    "  <li>Seaborn</li>\n",
    "  <li>Scikit-learn</li>\n",
    "  <li>Keras</li>\n",
    "  <li>TensorFlow</li>\n",
    "  <li>PyTorch</li>\n",
    "  <li>Apache Spark</li>\n",
    "  <li>Vegas</li>\n",
    "  <li>Big DL</li>\n",
    "  <li>Ggplot2</li>\n",
    "</ol>\n",
    "<span style=\"color: #b3b3b3; font-size: 70px; font-family: Arial, sans-serif; opacity:0.45; position:absolute; left:10%; top:90px; transform: rotate(-30deg); pointer-events: none; z-index: 1;\">SAMPLE</span>\n",
    "</div>"
   ]
  },
  {
   "cell_type": "markdown",
   "metadata": {},
   "source": [
    "## Data Science Tools\n",
    "\n",
    "| Tool              | Description                           |\n",
    "|-------------------|---------------------------------------|\n",
    "| Jupyter Notebook  | Interactive computing environment     |\n",
    "| RStudio           | IDE for R programming language        |\n",
    "| Apache Spark      | Big data processing framework         |"
   ]
  },
  {
   "cell_type": "markdown",
   "metadata": {},
   "source": [
    "## Examples of Arithmetic Expressions in Python"
   ]
  },
  {
   "cell_type": "code",
   "metadata": {},
   "source": [
    "# Multiply 3 by 4 and add 5\n",
    "(3 * 4) + 5"
   ],
   "execution_count": null,
   "outputs": []
  },
  {
   "cell_type": "code",
   "metadata": {},
   "source": [
    "# Convert 200 minutes to hours\n",
    "minutes = 200\n",
    "hours = minutes / 60\n",
    "hours"
   ],
   "execution_count": null,
   "outputs": []
  },
  {
   "cell_type": "markdown",
   "metadata": {},
   "source": [
    "## Objectives\n",
    "* Understand key tools and libraries in data science\n",
    "* Learn commonly used programming languages for data science\n",
    "* Practice simple arithmetic operations in Python\n",
    "* Convert units using Python code"
   ]
  },
  {
   "cell_type": "markdown",
   "metadata": {},
   "source": [
    "**Author:** Fatima Mansoor"
   ]
  }
 ],
 "metadata": {
  "kernelspec": {
   "display_name": "Python 3",
   "language": "python",
   "name": "python3"
  },
  "language_info": {
   "name": "python",
   "version": ""
  }
 },
 "nbformat": 4,
 "nbformat_minor": 2
}
